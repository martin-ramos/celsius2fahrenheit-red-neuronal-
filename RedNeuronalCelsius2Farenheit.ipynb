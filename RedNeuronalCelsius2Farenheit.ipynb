{
  "nbformat": 4,
  "nbformat_minor": 0,
  "metadata": {
    "colab": {
      "name": "RedNeuronalCelsius2Farenheit.ipynb",
      "provenance": [],
      "authorship_tag": "ABX9TyNHgGYWDKRzh9ZBu0l+AXdR",
      "include_colab_link": true
    },
    "kernelspec": {
      "name": "python3",
      "display_name": "Python 3"
    },
    "language_info": {
      "name": "python"
    }
  },
  "cells": [
    {
      "cell_type": "markdown",
      "metadata": {
        "id": "view-in-github",
        "colab_type": "text"
      },
      "source": [
        "<a href=\"https://colab.research.google.com/github/martin-ramos/redneuronalcelsius2fahrenheit/blob/main/RedNeuronalCelsius2Farenheit.ipynb\" target=\"_parent\"><img src=\"https://colab.research.google.com/assets/colab-badge.svg\" alt=\"Open In Colab\"/></a>"
      ]
    },
    {
      "cell_type": "code",
      "metadata": {
        "id": "mI06-2eoyzBl"
      },
      "source": [
        "import tensorflow as tf\n",
        "import numpy as np"
      ],
      "execution_count": null,
      "outputs": []
    },
    {
      "cell_type": "code",
      "metadata": {
        "id": "TNq2q8-hzwJE"
      },
      "source": [
        "### Se crean dos array para enseñar al modelo\n",
        "### Cada campo celsius corresponde con el valor aproximado en fahrenheit\n",
        "celsius = np.array([-40,-10,0,8,15,22,38], dtype=float)\n",
        "farenheit = np.array([-40,14,32,46,59, 72, 100], dtype=float)"
      ],
      "execution_count": null,
      "outputs": []
    },
    {
      "cell_type": "code",
      "metadata": {
        "id": "GVOLNxsj0Pok"
      },
      "source": [
        "## Para utilizar una sola capa en la red\n",
        "#capa = tf.keras.layers.Dense(units=1, input_shape=[1])\n",
        "#modelo = tf.keras.Sequential([capa])"
      ],
      "execution_count": null,
      "outputs": []
    },
    {
      "cell_type": "markdown",
      "metadata": {
        "id": "P0HCltpn5oY7"
      },
      "source": [
        "Las capas densas son las que tienen conexiones cada neurona hacia todas las neuronas de la  siguiente capa"
      ]
    },
    {
      "cell_type": "code",
      "metadata": {
        "id": "FhkLNKZz3dof"
      },
      "source": [
        "### Para utilizar varias capas ocultas en la red\n",
        "### Units: es la cantidad de neuronas de la capa\n",
        "oculta1 = tf.keras.layers.Dense(units=3, input_shape=[1])\n",
        "oculta2 = tf.keras.layers.Dense(units=3)\n",
        "salida  = oculta1 = tf.keras.layers.Dense(units=1)\n",
        "modelo  = tf.keras.Sequential([oculta1, oculta2, salida])"
      ],
      "execution_count": null,
      "outputs": []
    },
    {
      "cell_type": "code",
      "metadata": {
        "id": "UomuhXUL0YZ7"
      },
      "source": [
        "## Utilizaremos el optimizado Adam y recibe como argumento\n",
        "## el learning rate\n",
        "## y como funcion de perdida usaremos \"Mean Squared Error\"\n",
        "modelo.compile(\n",
        "    optimizer=tf.keras.optimizers.Adam(0.1), \n",
        "    loss='mean_squared_error'\n",
        ")"
      ],
      "execution_count": null,
      "outputs": []
    },
    {
      "cell_type": "code",
      "metadata": {
        "colab": {
          "base_uri": "https://localhost:8080/"
        },
        "id": "JbwhJ2H3037D",
        "outputId": "0711dc8b-441a-4806-e14f-17a18c7cec5c"
      },
      "source": [
        "print(\"Comenzando entrenamiento....\")"
      ],
      "execution_count": null,
      "outputs": [
        {
          "output_type": "stream",
          "name": "stdout",
          "text": [
            "Comenzando entrenamiento....\n"
          ]
        }
      ]
    },
    {
      "cell_type": "code",
      "metadata": {
        "colab": {
          "base_uri": "https://localhost:8080/"
        },
        "id": "UN66EMLm065O",
        "outputId": "1309bda0-220e-4c16-dccc-e6e2ec812638"
      },
      "source": [
        "## pasamos los datos de entreda \"Celsius\" y la respuesta esperada \"Farenheit\"\n",
        "## Hay que dar varios epochs para que el modelo se optimice lo mas posible\n",
        "## Probamos con 1000 \n",
        "historial = modelo.fit(celsius, farenheit, epochs=1000, verbose=False)\n",
        "print(\"Modelo entrenado\")"
      ],
      "execution_count": null,
      "outputs": [
        {
          "output_type": "stream",
          "name": "stdout",
          "text": [
            "Modelo entrenado\n"
          ]
        }
      ]
    },
    {
      "cell_type": "code",
      "metadata": {
        "colab": {
          "base_uri": "https://localhost:8080/",
          "height": 296
        },
        "id": "TxMyNMIV1DE1",
        "outputId": "049246b2-025c-4984-982c-821719ca8c79"
      },
      "source": [
        "import matplotlib.pyplot as plt\n",
        "plt.xlabel(\"# Epoch\")\n",
        "plt.ylabel(\"Magnitud de perdida\")\n",
        "plt.plot(historial.history[\"loss\"])"
      ],
      "execution_count": null,
      "outputs": [
        {
          "output_type": "execute_result",
          "data": {
            "text/plain": [
              "[<matplotlib.lines.Line2D at 0x7fbae37bff50>]"
            ]
          },
          "metadata": {},
          "execution_count": 58
        },
        {
          "output_type": "display_data",
          "data": {
            "image/png": "[encoded data removed]",
            "text/plain": [
              "<Figure size 432x288 with 1 Axes>"
            ]
          },
          "metadata": {
            "needs_background": "light"
          }
        }
      ]
    },
    {
      "cell_type": "code",
      "metadata": {
        "colab": {
          "base_uri": "https://localhost:8080/"
        },
        "id": "Eiqf3g8E1ciG",
        "outputId": "fe7c71ca-ee9a-412c-f47f-94eec1703095"
      },
      "source": [
        "print(\"Hagamos una predicción\")\n",
        "res = modelo.predict([10000.00])\n",
        "print(\"El resultado es\" + str(res) + \" farenheit!!!\")"
      ],
      "execution_count": null,
      "outputs": [
        {
          "output_type": "stream",
          "name": "stdout",
          "text": [
            "Hagamos una predicción\n",
            "El resultado es[[18011.457 18011.467 18011.414]] farenheit!!!\n"
          ]
        }
      ]
    },
    {
      "cell_type": "code",
      "metadata": {
        "colab": {
          "base_uri": "https://localhost:8080/"
        },
        "id": "zO_UQ5dl16ir",
        "outputId": "9f1b7ec9-c638-41c2-c701-47747030c73a"
      },
      "source": [
        "print(\"Valor variables internas del modelo\")\n",
        "print(oculta1.get_weights())\n",
        "print(oculta2.get_weights())\n",
        "print(salida.get_weights())"
      ],
      "execution_count": null,
      "outputs": [
        {
          "output_type": "stream",
          "name": "stdout",
          "text": [
            "Valor variables internas del modelo\n",
            "[array([[0.59516317]], dtype=float32), array([8.35257], dtype=float32)]\n",
            "[array([[3.0209367, 3.0209384, 3.0209296]], dtype=float32), array([6.7199154, 6.7198634, 6.7201   ], dtype=float32)]\n",
            "[array([[0.59516317]], dtype=float32), array([8.35257], dtype=float32)]\n"
          ]
        }
      ]
    },
    {
      "cell_type": "code",
      "metadata": {
        "id": "h80DkJIJ16gT"
      },
      "source": [
        ""
      ],
      "execution_count": null,
      "outputs": []
    },
    {
      "cell_type": "code",
      "metadata": {
        "id": "D4Ivqijn16db"
      },
      "source": [
        ""
      ],
      "execution_count": null,
      "outputs": []
    },
    {
      "cell_type": "code",
      "metadata": {
        "id": "6QqiluMs16ab"
      },
      "source": [
        ""
      ],
      "execution_count": null,
      "outputs": []
    }
  ]
}